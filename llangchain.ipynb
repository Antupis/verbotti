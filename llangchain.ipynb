{
 "cells": [
  {
   "cell_type": "markdown",
   "id": "509dd5c9",
   "metadata": {},
   "source": [
    "Test llama_index"
   ]
  },
  {
   "cell_type": "code",
   "execution_count": null,
   "id": "96e4773a",
   "metadata": {},
   "outputs": [],
   "source": [
    "import os\n",
    "from llama_index import GPTVectorStoreIndex, SimpleDirectoryReader\n",
    "from llama_index import StorageContext, load_index_from_storage\n",
    "import sklearn\n",
    "\n",
    "\n",
    "os.environ[\"OPENAI_API_KEY\"] = \"XXXXX\""
   ]
  },
  {
   "cell_type": "code",
   "execution_count": null,
   "id": "240f47a0",
   "metadata": {},
   "outputs": [],
   "source": [
    "import re\n",
    "\n",
    "lines_seen = set() # holds lines already seen\n",
    "lines_per_chunk = 1000 # number of lines per chunk\n",
    "chunk_counter = 1\n",
    "\n",
    "outfile = open('vero_no_duplicates_{}.txt'.format(chunk_counter), \"w\")\n",
    "line_counter = 0\n",
    "\n",
    "for line in open('og_data/vero_text.txt', \"r\"):\n",
    "    # not a duplicate and does not match unwanted patterns\n",
    "    if line not in lines_seen and not re.match(r'^[\\d,]*$', line): \n",
    "        outfile.write(line)\n",
    "        lines_seen.add(line)\n",
    "        line_counter += 1\n",
    "        if line_counter >= lines_per_chunk:\n",
    "            outfile.close()\n",
    "            chunk_counter += 1\n",
    "            outfile = open('data/vero_no_duplicates_{}.txt'.format(chunk_counter), \"w\")\n",
    "            line_counter = 0\n",
    "\n",
    "outfile.close()"
   ]
  },
  {
   "cell_type": "code",
   "execution_count": null,
   "id": "53adc0fd",
   "metadata": {},
   "outputs": [],
   "source": [
    "documents = SimpleDirectoryReader('devdata').load_data()"
   ]
  },
  {
   "cell_type": "code",
   "execution_count": null,
   "id": "c3617934",
   "metadata": {},
   "outputs": [],
   "source": [
    "documents"
   ]
  },
  {
   "cell_type": "code",
   "execution_count": null,
   "id": "680904ec",
   "metadata": {},
   "outputs": [],
   "source": [
    "index = GPTVectorStoreIndex.from_documents(documents)"
   ]
  },
  {
   "cell_type": "code",
   "execution_count": null,
   "id": "fd8cac88",
   "metadata": {},
   "outputs": [],
   "source": [
    "index.set_index_id(\"vero_index\")\n",
    "index.storage_context.persist('./storage')"
   ]
  },
  {
   "cell_type": "code",
   "execution_count": null,
   "id": "a5dc1c9d",
   "metadata": {},
   "outputs": [],
   "source": [
    "query_engine = index.as_query_engine()\n",
    "\n",
    "# set Logging to DEBUG for more detailed outputs\n",
    "query_engine = index.as_query_engine(\n",
    "        vector_store_query_mode=\"svm\"\n",
    "    )\n",
    "response = query_engine.query(\n",
    "        \"Mikä on henkilötietodirektiivin 95/46/EY ?\"\n",
    "    )\n"
   ]
  },
  {
   "cell_type": "code",
   "execution_count": null,
   "id": "824f858d",
   "metadata": {},
   "outputs": [],
   "source": [
    "str(response)"
   ]
  },
  {
   "cell_type": "markdown",
   "id": "542e5b4b",
   "metadata": {},
   "source": [
    "Test langchain\n",
    "tools with llama index"
   ]
  },
  {
   "cell_type": "code",
   "execution_count": null,
   "id": "0249170e",
   "metadata": {},
   "outputs": [],
   "source": [
    "from langchain.agents import Tool\n",
    "from langchain.chains.conversation.memory import ConversationBufferMemory\n",
    "from langchain.chat_models import ChatOpenAI\n",
    "from langchain.agents import initialize_agent"
   ]
  },
  {
   "cell_type": "code",
   "execution_count": null,
   "id": "1f648b39",
   "metadata": {},
   "outputs": [],
   "source": [
    "\n",
    "\n",
    "tools = [\n",
    "    Tool(\n",
    "        name = \"GPT Index\",\n",
    "        func=lambda q: str(query_engine.query(q).get_formatted_sources()),\n",
    "        description=\"useful for when you want to answer questions about the author. The input to this tool should be a complete english sentence.\",\n",
    "        return_direct=True\n",
    "    ),\n",
    "]\n",
    "\n"
   ]
  },
  {
   "cell_type": "code",
   "execution_count": null,
   "id": "3085400b",
   "metadata": {},
   "outputs": [],
   "source": [
    "memory = ConversationBufferMemory(memory_key=\"chat_history\")\n",
    "llm = ChatOpenAI(temperature=0)\n",
    "agent_executor = initialize_agent(tools, llm, agent=\"conversational-react-description\", memory=memory)"
   ]
  },
  {
   "cell_type": "code",
   "execution_count": null,
   "id": "f7453205",
   "metadata": {},
   "outputs": [],
   "source": [
    "agent_executor.run(input=\"Mikä on henkilötietodirektiivin 95/46/EY ?\")"
   ]
  }
 ],
 "metadata": {
  "kernelspec": {
   "display_name": "Python 3 (ipykernel)",
   "language": "python",
   "name": "python3"
  },
  "language_info": {
   "codemirror_mode": {
    "name": "ipython",
    "version": 3
   },
   "file_extension": ".py",
   "mimetype": "text/x-python",
   "name": "python",
   "nbconvert_exporter": "python",
   "pygments_lexer": "ipython3",
   "version": "3.11.1"
  }
 },
 "nbformat": 4,
 "nbformat_minor": 5
}
